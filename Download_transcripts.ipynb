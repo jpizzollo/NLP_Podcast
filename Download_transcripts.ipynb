{
 "cells": [
  {
   "cell_type": "code",
   "execution_count": null,
   "metadata": {},
   "outputs": [],
   "source": []
  },
  {
   "cell_type": "code",
   "execution_count": 1,
   "metadata": {},
   "outputs": [],
   "source": [
    "from bs4 import BeautifulSoup\n",
    "import requests\n",
    "import time, os\n",
    "from selenium import webdriver\n",
    "from selenium.webdriver.common.keys import Keys\n",
    "from selenium.webdriver.support.ui import WebDriverWait\n",
    "from selenium.webdriver.support import expected_conditions as EC\n",
    "from selenium.webdriver.common.by import By\n",
    "import pickle\n",
    "from youtube_transcript_api import YouTubeTranscriptApi\n",
    "\n",
    "time.sleep(5)\n",
    "\n",
    "chromedriver = \"/Applications/chromedriver\"\n",
    "os.environ[\"webdriver.chrome.driver\"] = chromedriver"
   ]
  },
  {
   "cell_type": "markdown",
   "metadata": {},
   "source": [
    "## Get URLs for TrainerRoad weekly podcasts"
   ]
  },
  {
   "cell_type": "code",
   "execution_count": 2,
   "metadata": {},
   "outputs": [],
   "source": [
    "# Go to playlist for weekly podcasts\n",
    "driver = webdriver.Chrome(chromedriver)\n",
    "driver.get('https://www.youtube.com/playlist?list=PLrKJ0zeMQrI61wqXR8MUBXBHPk5Rli1yH')\n",
    "time.sleep(3)"
   ]
  },
  {
   "cell_type": "code",
   "execution_count": 3,
   "metadata": {},
   "outputs": [],
   "source": [
    "#Scroll to get all podcasts on one page\n",
    "driver.execute_script(\"window.scrollTo(0, document.documentElement.scrollHeight);\")\n",
    "time.sleep(3)"
   ]
  },
  {
   "cell_type": "code",
   "execution_count": 4,
   "metadata": {},
   "outputs": [],
   "source": [
    "# Get the html\n",
    "soup = BeautifulSoup(driver.page_source, 'html.parser')"
   ]
  },
  {
   "cell_type": "code",
   "execution_count": 6,
   "metadata": {},
   "outputs": [
    {
     "name": "stdout",
     "output_type": "stream",
     "text": [
      "153\n",
      "['/watch?v=xXXIACCJ2io&list=PLrKJ0zeMQrI61wqXR8MUBXBHPk5Rli1yH&index=1', '/watch?v=iw7AKGGBwnQ&list=PLrKJ0zeMQrI61wqXR8MUBXBHPk5Rli1yH&index=2', '/watch?v=g1VFTGRZjLQ&list=PLrKJ0zeMQrI61wqXR8MUBXBHPk5Rli1yH&index=3']\n",
      "['/watch?v=2VkBw9aeb_0&list=PLrKJ0zeMQrI61wqXR8MUBXBHPk5Rli1yH&index=151', '/watch?v=Lpq7LpP31Ok&list=PLrKJ0zeMQrI61wqXR8MUBXBHPk5Rli1yH&index=152', '/watch?v=eWZVAazaDco&list=PLrKJ0zeMQrI61wqXR8MUBXBHPk5Rli1yH&index=153']\n"
     ]
    }
   ],
   "source": [
    "# Get the links to each episode\n",
    "link_divs = soup.find_all(class_=\"yt-simple-endpoint style-scope ytd-playlist-video-renderer\")\n",
    "links = []\n",
    "for div in link_divs:\n",
    "    links.append(div.find('a')['href'])\n",
    "print(len(links))\n",
    "print(links[:3])\n",
    "print(links[-3:])"
   ]
  },
  {
   "cell_type": "markdown",
   "metadata": {},
   "source": [
    "## Get transcripts\n",
    "Transcripts are in a dictionary.  \n",
    "Each key in the dictionary is a video id, and the value is the transcript.  \n",
    "Each transcript is a list of dictionaries, each with keys: text, start, and duration"
   ]
  },
  {
   "cell_type": "code",
   "execution_count": 7,
   "metadata": {},
   "outputs": [
    {
     "name": "stdout",
     "output_type": "stream",
     "text": [
      "153\n",
      "['xXXIACCJ2io', 'iw7AKGGBwnQ', 'g1VFTGRZjLQ']\n",
      "['2VkBw9aeb_0', 'Lpq7LpP31Ok', 'eWZVAazaDco']\n"
     ]
    }
   ],
   "source": [
    "# Get video ID from each link\n",
    "video_ids = []\n",
    "for vid_id in links:\n",
    "    video_ids.append(vid_id.split('=')[1].split('&')[0])\n",
    "print(len(video_ids))\n",
    "print(video_ids[:3])\n",
    "print(video_ids[-3:])"
   ]
  },
  {
   "cell_type": "code",
   "execution_count": 11,
   "metadata": {},
   "outputs": [],
   "source": [
    "# Get transcripts\n",
    "transcripts ={}\n",
    "for vid_id in video_ids:\n",
    "    try:\n",
    "        transcripts[vid_id] = YouTubeTranscriptApi.get_transcript(vid_id)\n",
    "    except:\n",
    "        pass"
   ]
  },
  {
   "cell_type": "code",
   "execution_count": 13,
   "metadata": {},
   "outputs": [],
   "source": [
    "# Pickle the transcripts\n",
    "with open('transcripts.pickle', 'wb') as to_write:\n",
    "    pickle.dump(transcripts, to_write)"
   ]
  },
  {
   "cell_type": "markdown",
   "metadata": {},
   "source": [
    "## Some episodes are missing because transcripts are unavil, one is repeated 3x"
   ]
  },
  {
   "cell_type": "code",
   "execution_count": 33,
   "metadata": {},
   "outputs": [
    {
     "name": "stdout",
     "output_type": "stream",
     "text": [
      "153\n",
      "141\n"
     ]
    }
   ],
   "source": [
    "print(len(video_ids))\n",
    "print(len(transcripts))"
   ]
  },
  {
   "cell_type": "code",
   "execution_count": 42,
   "metadata": {},
   "outputs": [
    {
     "name": "stdout",
     "output_type": "stream",
     "text": [
      "10\n"
     ]
    }
   ],
   "source": [
    "tkeys = list(transcripts.keys())\n",
    "import numpy as np\n",
    "missing_vids = np.setdiff1d(video_ids,tkeys)\n",
    "print(len(missing_vids))"
   ]
  },
  {
   "cell_type": "code",
   "execution_count": 45,
   "metadata": {},
   "outputs": [
    {
     "name": "stdout",
     "output_type": "stream",
     "text": [
      "wu7afTnGAlA\n",
      "wu7afTnGAlA\n",
      "wu7afTnGAlA\n"
     ]
    }
   ],
   "source": [
    "for video in video_ids:\n",
    "    if video_ids.count(video) > 1:\n",
    "        print(video)"
   ]
  },
  {
   "cell_type": "markdown",
   "metadata": {},
   "source": [
    "# Get Date, Likes, Reviews, Title"
   ]
  },
  {
   "cell_type": "code",
   "execution_count": 64,
   "metadata": {},
   "outputs": [],
   "source": [
    "driver = webdriver.Chrome(chromedriver)\n",
    "\n",
    "episode_details = {}\n",
    "\n",
    "for link in links:\n",
    "    # links is a list of partial urls...apped those to www.youtube.com\n",
    "    url = 'https://www.youtube.com' + link\n",
    "    vid_id = link.split('=')[1].split('&')[0]\n",
    "    driver.get(url)\n",
    "    time.sleep(5)\n",
    "    soup = BeautifulSoup(driver.page_source, 'html.parser')\n",
    "    \n",
    "    # Get metrics\n",
    "    upload_date = soup.find(itemprop=\"uploadDate\")['content']\n",
    "    \n",
    "    thumbs = soup.find_all(class_=\"style-scope ytd-toggle-button-renderer style-text\",id=\"text\")\n",
    "    thumb_list = []\n",
    "    for thumb in thumbs:\n",
    "        thumb_list.append(thumb.text)\n",
    "    likes = thumb_list[0]\n",
    "    dislikes = thumb_list[1]\n",
    "    \n",
    "    views = soup.find(class_=\"view-count style-scope yt-view-count-renderer\").text.split(' ')[0]\n",
    "    \n",
    "    title = soup.find(class_=\"title style-scope ytd-video-primary-info-renderer\").find('yt-formatted-string').text\n",
    "    \n",
    "    # Put all those metrics in a dictionary\n",
    "    episode_details[vid_id] = {'likes':likes,\\\n",
    "                              'dislikes':dislikes,\\\n",
    "                              'views':views,\\\n",
    "                              'title': title}\n"
   ]
  },
  {
   "cell_type": "code",
   "execution_count": 66,
   "metadata": {},
   "outputs": [],
   "source": [
    "with open('episode_details.pickle', 'wb') as to_write:\n",
    "    pickle.dump(episode_details, to_write)"
   ]
  },
  {
   "cell_type": "code",
   "execution_count": 65,
   "metadata": {},
   "outputs": [
    {
     "data": {
      "text/plain": [
       "151"
      ]
     },
     "execution_count": 65,
     "metadata": {},
     "output_type": "execute_result"
    }
   ],
   "source": [
    "len(episode_details)"
   ]
  },
  {
   "cell_type": "code",
   "execution_count": null,
   "metadata": {},
   "outputs": [],
   "source": []
  }
 ],
 "metadata": {
  "kernelspec": {
   "display_name": "Python 3",
   "language": "python",
   "name": "python3"
  },
  "language_info": {
   "codemirror_mode": {
    "name": "ipython",
    "version": 3
   },
   "file_extension": ".py",
   "mimetype": "text/x-python",
   "name": "python",
   "nbconvert_exporter": "python",
   "pygments_lexer": "ipython3",
   "version": "3.8.5"
  }
 },
 "nbformat": 4,
 "nbformat_minor": 4
}
